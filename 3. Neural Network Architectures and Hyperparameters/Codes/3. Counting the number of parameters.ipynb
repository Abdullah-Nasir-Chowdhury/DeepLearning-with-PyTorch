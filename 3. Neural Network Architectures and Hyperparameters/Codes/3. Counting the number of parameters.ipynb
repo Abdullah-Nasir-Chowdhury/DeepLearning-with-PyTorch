{
 "cells": [
  {
   "cell_type": "markdown",
   "metadata": {},
   "source": [
    "## Counting the number of parameters\n",
    "\n",
    "Deep learning models are famous for having a lot of parameters. Recent language models have billions of parameters. With more parameters comes more computational complexity and longer training times, and a deep learning practitioner must know how many parameters their model has.\n",
    "\n",
    "In this exercise, you will calculate the number of parameters in your model, first using PyTorch then manually.\n",
    "\n",
    "The torch.nn package has been imported as nn"
   ]
  },
  {
   "cell_type": "code",
   "execution_count": 1,
   "metadata": {},
   "outputs": [],
   "source": [
    "import torch\n",
    "import torch.nn as nn"
   ]
  },
  {
   "cell_type": "markdown",
   "metadata": {},
   "source": [
    "- Iterate through the model's parameters to update the total variable with the total number of parameters in the model."
   ]
  },
  {
   "cell_type": "code",
   "execution_count": 5,
   "metadata": {},
   "outputs": [
    {
     "name": "stdout",
     "output_type": "stream",
     "text": [
      "81\n"
     ]
    }
   ],
   "source": [
    "model = nn.Sequential(nn.Linear(16, 4),\n",
    "                      nn.Linear(4, 2),\n",
    "                      nn.Linear(2, 1))\n",
    "\n",
    "total = 0\n",
    "\n",
    "# Calculate the number of parameters in the model\n",
    "for parameter in model.parameters():\n",
    "  total += parameter.numel()\n",
    "print(total)"
   ]
  },
  {
   "cell_type": "markdown",
   "metadata": {},
   "source": [
    "Manually:"
   ]
  },
  {
   "cell_type": "code",
   "execution_count": 6,
   "metadata": {},
   "outputs": [
    {
     "data": {
      "text/plain": [
       "'\\nInput layer has 16 neurons, no parameters\\nFirst hidden layer has 4 neurons, \\neach neuron will have 16 weights and 1 bias\\nin total 16 + 1 = 20 parameters\\nSo, first hidden layer will have 4 * 17 = 68 parameters\\nSecond hidden layer has 2 neurons,\\neach neuron will have 4 weights and 1 bias\\nin total 4 + 1 = 5 parameters\\nSo, second hidden layer will have 2 * 5 = 10 parameters\\nOutput layer has 1 neuron,\\neach neuron will have 2 weights and 1 bias\\nin total 2 + 1 = 3 parameters\\nSo, output layer will have 1 * 3 = 3 parameters\\n\\nTotal parameters = 68 + 10 + 3 = 81\\n'"
      ]
     },
     "execution_count": 6,
     "metadata": {},
     "output_type": "execute_result"
    }
   ],
   "source": [
    "\"\"\"\n",
    "Input layer has 16 neurons, no parameters\n",
    "First hidden layer has 4 neurons, \n",
    "each neuron will have 16 weights and 1 bias\n",
    "in total 16 + 1 = 20 parameters\n",
    "So, first hidden layer will have 4 * 17 = 68 parameters\n",
    "Second hidden layer has 2 neurons,\n",
    "each neuron will have 4 weights and 1 bias\n",
    "in total 4 + 1 = 5 parameters\n",
    "So, second hidden layer will have 2 * 5 = 10 parameters\n",
    "Output layer has 1 neuron,\n",
    "each neuron will have 2 weights and 1 bias\n",
    "in total 2 + 1 = 3 parameters\n",
    "So, output layer will have 1 * 3 = 3 parameters\n",
    "\n",
    "Total parameters = 68 + 10 + 3 = 81\n",
    "\"\"\""
   ]
  },
  {
   "cell_type": "code",
   "execution_count": null,
   "metadata": {},
   "outputs": [],
   "source": []
  }
 ],
 "metadata": {
  "kernelspec": {
   "display_name": "Python 3",
   "language": "python",
   "name": "python3"
  },
  "language_info": {
   "codemirror_mode": {
    "name": "ipython",
    "version": 3
   },
   "file_extension": ".py",
   "mimetype": "text/x-python",
   "name": "python",
   "nbconvert_exporter": "python",
   "pygments_lexer": "ipython3",
   "version": "3.11.6"
  }
 },
 "nbformat": 4,
 "nbformat_minor": 2
}
