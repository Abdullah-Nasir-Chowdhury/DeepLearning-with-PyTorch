{
 "cells": [
  {
   "cell_type": "markdown",
   "metadata": {},
   "source": [
    "## Estimating a sample\n",
    "In previous exercises, you used linear layers to build networks.\n",
    "\n",
    "Recall that the operation performed by nn.Linear() is to take an input \n",
    " and apply the transformation \n",
    " ,where \n",
    " and \n",
    " are two tensors (called the weight and bias).\n",
    "\n",
    "A critical part of training PyTorch models is to calculate gradients of the weight and bias tensors with respect to a loss function.\n",
    "\n",
    "In this exercise, you will calculate weight and bias tensor gradients using cross entropy loss and a sample of data.\n",
    "\n",
    "The following tensors are provded:\n",
    "\n",
    "- weight: a \n",
    "-element tensor\n",
    "- bias: a \n",
    "-element tensor\n",
    "- preds: a \n",
    "-element tensor containing the model predictions\n",
    "- target: a \n",
    "-element one-hot encoded tensor containing the ground-truth label"
   ]
  },
  {
   "cell_type": "code",
   "execution_count": 7,
   "metadata": {},
   "outputs": [],
   "source": [
    "import torch\n",
    "\n",
    "weight = torch.tensor([[ 2.2602, -0.8224,  1.5600,  0.8258,  2.2323,  0.0581,  1.4496, -0.0327,\n",
    "         -1.3014],\n",
    "        [-0.1164,  0.0350, -0.1367, -0.6960,  1.0745,  1.6239,  1.4822,  0.9434,\n",
    "          0.0697]], requires_grad=True)\n",
    "\n",
    "bias = torch.tensor([-0.1428,  0.4067], requires_grad=True)\n",
    "\n",
    "preds = preds = torch.tensor([[3.2552, 2.4281]], requires_grad=True)\n",
    "\n",
    "target = torch.tensor([[1., 0.]])"
   ]
  },
  {
   "cell_type": "markdown",
   "metadata": {},
   "source": [
    "Task:\n",
    "- Use the criterion you have defined to calculate the loss value with respect to the predictions and target values.\n",
    "- Compute the gradients of the cross entropy loss.\n",
    "- Display the gradients of the weight and bias tensors, in that order."
   ]
  },
  {
   "cell_type": "code",
   "execution_count": 8,
   "metadata": {},
   "outputs": [
    {
     "name": "stdout",
     "output_type": "stream",
     "text": [
      "None\n",
      "None\n"
     ]
    }
   ],
   "source": [
    "import torch\n",
    "import torch.nn as nn\n",
    "criterion = nn.CrossEntropyLoss()\n",
    "\n",
    "# Calculate the loss\n",
    "loss = criterion(preds,target)\n",
    "\n",
    "# Compute the gradients of the loss\n",
    "loss.backward()\n",
    "\n",
    "# Display gradients of the weight and bias tensors in order\n",
    "print(weight.grad)\n",
    "print(bias.grad)"
   ]
  },
  {
   "cell_type": "markdown",
   "metadata": {},
   "source": [
    "It's showing None, because we are not using an actual model and calculating the backward propagation"
   ]
  },
  {
   "cell_type": "code",
   "execution_count": null,
   "metadata": {},
   "outputs": [],
   "source": []
  }
 ],
 "metadata": {
  "kernelspec": {
   "display_name": "Python 3",
   "language": "python",
   "name": "python3"
  },
  "language_info": {
   "codemirror_mode": {
    "name": "ipython",
    "version": 3
   },
   "file_extension": ".py",
   "mimetype": "text/x-python",
   "name": "python",
   "nbconvert_exporter": "python",
   "pygments_lexer": "ipython3",
   "version": "3.11.6"
  }
 },
 "nbformat": 4,
 "nbformat_minor": 2
}
