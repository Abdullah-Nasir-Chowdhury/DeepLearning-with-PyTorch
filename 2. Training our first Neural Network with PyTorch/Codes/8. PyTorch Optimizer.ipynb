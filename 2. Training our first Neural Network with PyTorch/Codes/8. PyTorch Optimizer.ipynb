{
 "cells": [
  {
   "cell_type": "code",
   "execution_count": 13,
   "metadata": {},
   "outputs": [],
   "source": [
    "import torch\n",
    "import torch.nn as nn\n",
    "import torch.nn.functional as F\n",
    "\n",
    "input_tensor = torch.rand(4,16)\n",
    "# Neural network\n",
    "model = nn.Sequential(\n",
    "    nn.Linear(16,8),\n",
    "    nn.Linear(8,4),\n",
    "    nn.Linear(4,4),\n",
    "    nn.Softmax(dim=-1)\n",
    ")\n",
    "\n",
    "# Forward pass\n",
    "logits = model(input_tensor)\n",
    "\n",
    "# Rename logits to pred:\n",
    "pred = logits\n",
    "\n",
    "# One hot encoded tensor is named target:\n",
    "y = 3\n",
    "target = F.one_hot(torch.tensor(y), num_classes=4)\n",
    "\n",
    "# Calculate cross entropy\n",
    "criterion = nn.CrossEntropyLoss()\n",
    "loss = criterion(pred, target)"
   ]
  },
  {
   "cell_type": "markdown",
   "metadata": {},
   "source": [
    "## Using the PyTorch optimizer\n",
    "In the previous exercise, you manually updated the weight of a network. You now know what's going on under the hood, but this approach is not scalable to a network of many layers.\n",
    "\n",
    "Thankfully, the PyTorch SGD optimizer does a similar job in a handful of lines of code. In this exercise, you will practice the last step to complete the training loop: updating the weights using a PyTorch optimizer.\n",
    "\n",
    "A neural network has been created and provided as the model variable. This model was used to run a forward pass and create the tensor of predictions pred. The one-hot encoded tensor is named target and the cross entropy loss function is stored as criterion.\n",
    "\n",
    "torch.optim as optim, and torch.nn as nn have already been loaded for you."
   ]
  },
  {
   "cell_type": "code",
   "execution_count": 14,
   "metadata": {},
   "outputs": [],
   "source": [
    "import torch\n",
    "import torch.optim as optim\n",
    "optimizer = optim.SGD(model.parameters(),lr=0.01)"
   ]
  },
  {
   "cell_type": "markdown",
   "metadata": {},
   "source": [
    "- Update the model's parameters using the optimizer."
   ]
  },
  {
   "cell_type": "code",
   "execution_count": 15,
   "metadata": {},
   "outputs": [],
   "source": [
    "# Create the optimizer\n",
    "optimizer = optim.SGD(model.parameters(), lr=0.001)\n",
    "\n",
    "loss = criterion(pred, target)\n",
    "loss.backward()\n",
    "\n",
    "# Update the model's parameters using the optimizer\n",
    "optimizer.step()"
   ]
  },
  {
   "cell_type": "code",
   "execution_count": null,
   "metadata": {},
   "outputs": [],
   "source": []
  }
 ],
 "metadata": {
  "kernelspec": {
   "display_name": "Python 3",
   "language": "python",
   "name": "python3"
  },
  "language_info": {
   "codemirror_mode": {
    "name": "ipython",
    "version": 3
   },
   "file_extension": ".py",
   "mimetype": "text/x-python",
   "name": "python",
   "nbconvert_exporter": "python",
   "pygments_lexer": "ipython3",
   "version": "3.11.6"
  }
 },
 "nbformat": 4,
 "nbformat_minor": 2
}
