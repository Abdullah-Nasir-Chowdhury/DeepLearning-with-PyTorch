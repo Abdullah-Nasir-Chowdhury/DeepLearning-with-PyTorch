{
 "cells": [
  {
   "cell_type": "markdown",
   "metadata": {},
   "source": [
    "## Updating the weights manually\n",
    "Now that you know how to access weights and biases, you will manually perform the job of the PyTorch optimizer. PyTorch functions can do what you're about to do, but it's helpful to do the work manually at least once, to understand what's going on under the hood.\n",
    "\n",
    "A neural network of three layers has been created and stored as the model variable. This network has been used for a forward pass and the loss and its derivatives have been calculated. A default learning rate, lr, has been chosen to scale the gradients when performing the update."
   ]
  },
  {
   "cell_type": "code",
   "execution_count": 16,
   "metadata": {},
   "outputs": [],
   "source": [
    "import torch\n",
    "import torch.nn as nn\n",
    "import torch.nn.functional as F\n",
    "\n",
    "input_tensor = torch.rand(4,8)\n",
    "num_features = input_tensor.shape[1]\n",
    "target = torch.tensor([1, 0, 3, 2])\n",
    "\n",
    "# Three Layer Neural Network Model:\n",
    "model = nn.Sequential(\n",
    "    nn.Linear(in_features=num_features, out_features=8),\n",
    "    nn.Linear(in_features=8, out_features=8),\n",
    "    nn.Linear(in_features=8, out_features=4),\n",
    ")\n",
    "\n",
    "# Forward pass\n",
    "logits = model(input_tensor)\n",
    "\n",
    "# loss function\n",
    "criterion = nn.CrossEntropyLoss()\n",
    "loss = criterion(logits, target)\n",
    "\n",
    "# Calculate gradients: backward pass\n",
    "loss.backward()\n",
    "\n",
    "# learning rate:\n",
    "lr = 0.01"
   ]
  },
  {
   "cell_type": "markdown",
   "metadata": {},
   "source": [
    "- Create the gradient variables by accessing the local gradients of each weight tensor."
   ]
  },
  {
   "cell_type": "code",
   "execution_count": 17,
   "metadata": {},
   "outputs": [],
   "source": [
    "weight0 = model[0].weight\n",
    "weight1 = model[1].weight\n",
    "weight2 = model[2].weight\n",
    "\n",
    "# Access the gradients of the weight of each linear layer\n",
    "grads0 = model[0].weight.grad\n",
    "grads1 = model[1].weight.grad\n",
    "grads2 = model[2].weight.grad\n"
   ]
  },
  {
   "cell_type": "markdown",
   "metadata": {},
   "source": [
    "- Update the weights using the gradients scaled by the learning rate."
   ]
  },
  {
   "cell_type": "code",
   "execution_count": 18,
   "metadata": {},
   "outputs": [],
   "source": [
    "weight0 = model[0].weight\n",
    "weight1 = model[1].weight\n",
    "weight2 = model[2].weight\n",
    "\n",
    "# Access the gradients of the weight of each linear layer\n",
    "grads0 = model[0].weight.grad\n",
    "grads1 = model[1].weight.grad\n",
    "grads2 = model[2].weight.grad\n",
    "\n",
    "# Learning rate:\n",
    "lr = 0.001\n",
    "# Update the weights using the learning rate and the gradients\n",
    "weight0 = weight0 - lr * grads0\n",
    "weight1 = weight1 - lr * grads1\n",
    "weight2 = weight2 - lr * grads2"
   ]
  },
  {
   "cell_type": "code",
   "execution_count": 19,
   "metadata": {},
   "outputs": [
    {
     "data": {
      "text/plain": [
       "tensor([[-0.2944,  0.1700, -0.0306,  0.2226,  0.3194, -0.2150,  0.1103,  0.0029],\n",
       "        [-0.0081, -0.2133,  0.2658, -0.1584, -0.0877, -0.2496,  0.2694, -0.2268],\n",
       "        [-0.2655, -0.2901, -0.1878, -0.1347,  0.1757, -0.0661,  0.2150,  0.0544],\n",
       "        [-0.1383,  0.0413,  0.0783, -0.3011, -0.3174, -0.2260,  0.3158,  0.0642],\n",
       "        [ 0.2690, -0.2387,  0.2126,  0.1123, -0.1363,  0.0578,  0.2688, -0.2886],\n",
       "        [ 0.0957, -0.2697,  0.2163, -0.0087,  0.1765,  0.2974,  0.2334,  0.2507],\n",
       "        [-0.0258,  0.0550, -0.2189,  0.3395,  0.3130, -0.0859,  0.3178, -0.1508],\n",
       "        [-0.2459,  0.0429, -0.0684, -0.1908, -0.0998, -0.2962,  0.2504, -0.1580]],\n",
       "       grad_fn=<SubBackward0>)"
      ]
     },
     "execution_count": 19,
     "metadata": {},
     "output_type": "execute_result"
    }
   ],
   "source": [
    "weight0"
   ]
  },
  {
   "cell_type": "code",
   "execution_count": null,
   "metadata": {},
   "outputs": [],
   "source": []
  }
 ],
 "metadata": {
  "kernelspec": {
   "display_name": "Python 3",
   "language": "python",
   "name": "python3"
  },
  "language_info": {
   "codemirror_mode": {
    "name": "ipython",
    "version": 3
   },
   "file_extension": ".py",
   "mimetype": "text/x-python",
   "name": "python",
   "nbconvert_exporter": "python",
   "pygments_lexer": "ipython3",
   "version": "3.11.6"
  }
 },
 "nbformat": 4,
 "nbformat_minor": 2
}
